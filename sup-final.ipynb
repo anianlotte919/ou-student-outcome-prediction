{
 "cells": [
  {
   "cell_type": "markdown",
   "id": "1bd098fa",
   "metadata": {},
   "source": [
    "\n",
    "# Predicting Student Success Using Supervised Machine Learning: Evidence from the Open University Learning Analytics Dataset\n",
    "*final project for Introduction to Machine Learning: Supervised Learning*\n",
    "\n",
    "*Author*: Yun Xia  \n",
    "*Date*: Oct 2025  \n",
    "*Email*: yuxi8959@colorado.edu  \n",
    "*Course*: Introduction to Machine Learning: Supervised Learning     \n",
    "\n",
    "# 1. Project Topic\n",
    "In this final project, I tackle a practical question using the Open University Learning Analytics (OULAD) data:\n",
    "1) Multi-class classification: I predict each student's final outcome — Pass, Fail, Withdrawn, or Distinction — from demographics, registration timing, VLE engagement (clicks), and assessment-related signals without leaking labels.\n",
    "\n",
    "I combine simple, interpretable baselines (Logistic Regression; KNN) with robust tree models (SVM, adaBoost and Random Forest). \n",
    "My goals are to flag at-risk students early and to forecast performance so instructors can offer timely, personalized, and fair support in online learning environments.\n",
    "\n"
   ]
  },
  {
   "cell_type": "markdown",
   "id": "e625f032",
   "metadata": {},
   "source": [
    "\n",
    "# 2. Dataset description\n",
    "\n",
    "## Source and collection\n",
    "I use the Open University Learning Analytics Dataset (OULAD), a public dataset derived from the Open University’s Virtual Learning Environment (VLE) logs and student information systems. It combines de-identified demographics (age band, IMD band, region, gender, disability), registration timelines (date of registration/unregistration), interaction logs with online learning materials (studentVle → aggregated `sum_click`), and assessment records (studentAssessment joined with assessments → `avg_assessment_score`). Records are linked via student identifiers and course keys (`code_module`, `code_presentation`).\n",
    "\n",
    "## Public availability\n",
    "OULAD is openly available for research and teaching. For convenience, I access a mirrored copy on Kaggle that hosts the same tables as the original release.\n",
    "Kaggle mirror: https://www.kaggle.com/datasets/anlgrbz/student-demographics-online-education-dataoulad\n",
    "\n",
    "Citations of the dataset in APA format \n",
    "```text \n",
    "Kuzilek, J., Hlosta, M., & Zdrahal, Z. (2017). \n",
    "Open university learning analytics dataset. Scientific data, 4(1), 1-8.\n",
    "```\n",
    "DOI Link: https://doi.org/10.1038/sdata.2017.171  \n",
    "\n",
    "## Scope in this project\n",
    "the dataset contains seven modules (courses) across multiple presentations (J, B) from 2013 to 2016, totaling tens of thousands of student–module records. The key tables are:\n",
    "- `assessments.csv`: Details of assessments (e.g., exams, assignments) for each module.\n",
    "- `studentAssessment.csv`: Scores obtained by students in each assessment.\n",
    "- `studentRegistration.csv`: Records of student registration dates and withdrawal status.\n",
    "- `vle.csv`: Information about Virtual Learning Environment (VLE) activities.\n",
    "- `studentVle.csv`: Logs of student interactions with the VLE.\n",
    "- `courses.csv`: Metadata about courses/modules.\n",
    "- `studentInfo.csv`: Demographic and outcome information for each student.\n",
    "\n",
    "I build a single analysis table by merging: studentInfo + studentRegistration + aggregated studentVle clicks + aggregated studentAssessment scores. This covers seven modules across multiple J/B presentations, totaling on the order of tens of thousands of student–module records.\n",
    "\n",
    "## File size and dataset inspection\n",
    "The file size of the dataset is shown below."
   ]
  },
  {
   "cell_type": "code",
   "execution_count": 1,
   "id": "0c82a56f",
   "metadata": {
    "execution": {
     "iopub.execute_input": "2025-10-13T13:58:21.212776Z",
     "iopub.status.busy": "2025-10-13T13:58:21.212659Z",
     "iopub.status.idle": "2025-10-13T13:58:21.743069Z",
     "shell.execute_reply": "2025-10-13T13:58:21.742793Z"
    }
   },
   "outputs": [
    {
     "name": "stdout",
     "output_type": "stream",
     "text": [
      "File: studentAssessment.csv, Size: 5.43 MB\n",
      "File: studentInfo.csv, Size: 3.30 MB\n",
      "File: studentVle.csv, Size: 432.81 MB\n",
      "File: courses.csv, Size: 0.00 MB\n",
      "File: vle.csv, Size: 0.25 MB\n",
      "File: studentRegistration.csv, Size: 1.06 MB\n",
      "File: assessments.csv, Size: 0.01 MB\n"
     ]
    }
   ],
   "source": [
    "import numpy as np # linear algebra\n",
    "import pandas as pd # data processing, CSV file I/O (e.g. pd.read_csv)\n",
    "import os\n",
    "import matplotlib.pyplot as plt\n",
    "\n",
    "# set kaggle environment flag\n",
    "KAGGLE_ENV = False\n",
    "WITH_SVM = False\n",
    "base_path = \"/kaggle/input/open-university-learning-analytics\" if KAGGLE_ENV else \"./dataset\"\n",
    "\n",
    "for dirname, _, filenames in os.walk(base_path):\n",
    "    for filename in filenames:\n",
    "        file_path = os.path.join(dirname, filename)\n",
    "        file_size_mb = os.path.getsize(file_path) / (1024 * 1024)\n",
    "        print(f\"File: {filename}, Size: {file_size_mb:.2f} MB\")"
   ]
  },
  {
   "cell_type": "markdown",
   "id": "56de0178",
   "metadata": {
    "lines_to_next_cell": 0
   },
   "source": [
    "\n",
    "# 3. Data Merging and Cleaning\n",
    "I analyze the following tables from the OULAD dataset, I plan to merge them into a single DataFrame for modeling:\n",
    "1. Merge studentInfo with studentRegistration on student and course identifiers.\n",
    "2. Aggregate VLE clicks and merge with the main DataFrame.\n",
    "3. Aggregate assessment scores and merge with the main DataFrame.  "
   ]
  },
  {
   "cell_type": "markdown",
   "id": "a4d35866",
   "metadata": {},
   "source": [
    "## student info "
   ]
  },
  {
   "cell_type": "code",
   "execution_count": 2,
   "id": "c55ea162",
   "metadata": {
    "execution": {
     "iopub.execute_input": "2025-10-13T13:58:21.744663Z",
     "iopub.status.busy": "2025-10-13T13:58:21.744515Z",
     "iopub.status.idle": "2025-10-13T13:58:21.778822Z",
     "shell.execute_reply": "2025-10-13T13:58:21.778548Z"
    }
   },
   "outputs": [
    {
     "data": {
      "text/html": [
       "<div>\n",
       "<style scoped>\n",
       "    .dataframe tbody tr th:only-of-type {\n",
       "        vertical-align: middle;\n",
       "    }\n",
       "\n",
       "    .dataframe tbody tr th {\n",
       "        vertical-align: top;\n",
       "    }\n",
       "\n",
       "    .dataframe thead th {\n",
       "        text-align: right;\n",
       "    }\n",
       "</style>\n",
       "<table border=\"1\" class=\"dataframe\">\n",
       "  <thead>\n",
       "    <tr style=\"text-align: right;\">\n",
       "      <th></th>\n",
       "      <th>code_module</th>\n",
       "      <th>code_presentation</th>\n",
       "      <th>id_student</th>\n",
       "      <th>gender</th>\n",
       "      <th>region</th>\n",
       "      <th>highest_education</th>\n",
       "      <th>imd_band</th>\n",
       "      <th>age_band</th>\n",
       "      <th>num_of_prev_attempts</th>\n",
       "      <th>studied_credits</th>\n",
       "      <th>disability</th>\n",
       "      <th>final_result</th>\n",
       "    </tr>\n",
       "  </thead>\n",
       "  <tbody>\n",
       "    <tr>\n",
       "      <th>0</th>\n",
       "      <td>AAA</td>\n",
       "      <td>2013J</td>\n",
       "      <td>11391</td>\n",
       "      <td>M</td>\n",
       "      <td>East Anglian Region</td>\n",
       "      <td>HE Qualification</td>\n",
       "      <td>90-100%</td>\n",
       "      <td>55&lt;=</td>\n",
       "      <td>0</td>\n",
       "      <td>240</td>\n",
       "      <td>N</td>\n",
       "      <td>Pass</td>\n",
       "    </tr>\n",
       "    <tr>\n",
       "      <th>1</th>\n",
       "      <td>AAA</td>\n",
       "      <td>2013J</td>\n",
       "      <td>28400</td>\n",
       "      <td>F</td>\n",
       "      <td>Scotland</td>\n",
       "      <td>HE Qualification</td>\n",
       "      <td>20-30%</td>\n",
       "      <td>35-55</td>\n",
       "      <td>0</td>\n",
       "      <td>60</td>\n",
       "      <td>N</td>\n",
       "      <td>Pass</td>\n",
       "    </tr>\n",
       "    <tr>\n",
       "      <th>2</th>\n",
       "      <td>AAA</td>\n",
       "      <td>2013J</td>\n",
       "      <td>30268</td>\n",
       "      <td>F</td>\n",
       "      <td>North Western Region</td>\n",
       "      <td>A Level or Equivalent</td>\n",
       "      <td>30-40%</td>\n",
       "      <td>35-55</td>\n",
       "      <td>0</td>\n",
       "      <td>60</td>\n",
       "      <td>Y</td>\n",
       "      <td>Withdrawn</td>\n",
       "    </tr>\n",
       "    <tr>\n",
       "      <th>3</th>\n",
       "      <td>AAA</td>\n",
       "      <td>2013J</td>\n",
       "      <td>31604</td>\n",
       "      <td>F</td>\n",
       "      <td>South East Region</td>\n",
       "      <td>A Level or Equivalent</td>\n",
       "      <td>50-60%</td>\n",
       "      <td>35-55</td>\n",
       "      <td>0</td>\n",
       "      <td>60</td>\n",
       "      <td>N</td>\n",
       "      <td>Pass</td>\n",
       "    </tr>\n",
       "    <tr>\n",
       "      <th>4</th>\n",
       "      <td>AAA</td>\n",
       "      <td>2013J</td>\n",
       "      <td>32885</td>\n",
       "      <td>F</td>\n",
       "      <td>West Midlands Region</td>\n",
       "      <td>Lower Than A Level</td>\n",
       "      <td>50-60%</td>\n",
       "      <td>0-35</td>\n",
       "      <td>0</td>\n",
       "      <td>60</td>\n",
       "      <td>N</td>\n",
       "      <td>Pass</td>\n",
       "    </tr>\n",
       "  </tbody>\n",
       "</table>\n",
       "</div>"
      ],
      "text/plain": [
       "  code_module code_presentation  id_student gender                region  \\\n",
       "0         AAA             2013J       11391      M   East Anglian Region   \n",
       "1         AAA             2013J       28400      F              Scotland   \n",
       "2         AAA             2013J       30268      F  North Western Region   \n",
       "3         AAA             2013J       31604      F     South East Region   \n",
       "4         AAA             2013J       32885      F  West Midlands Region   \n",
       "\n",
       "       highest_education imd_band age_band  num_of_prev_attempts  \\\n",
       "0       HE Qualification  90-100%     55<=                     0   \n",
       "1       HE Qualification   20-30%    35-55                     0   \n",
       "2  A Level or Equivalent   30-40%    35-55                     0   \n",
       "3  A Level or Equivalent   50-60%    35-55                     0   \n",
       "4     Lower Than A Level   50-60%     0-35                     0   \n",
       "\n",
       "   studied_credits disability final_result  \n",
       "0              240          N         Pass  \n",
       "1               60          N         Pass  \n",
       "2               60          Y    Withdrawn  \n",
       "3               60          N         Pass  \n",
       "4               60          N         Pass  "
      ]
     },
     "execution_count": 2,
     "metadata": {},
     "output_type": "execute_result"
    }
   ],
   "source": [
    "# Our main classification target (Pass/Fail/Withdrawn/Distinction)\n",
    "TARGET_COL = \"final_result\"  \n",
    "# Demographics + final outcomes\n",
    "student_info = pd.read_csv(f\"{base_path}/studentInfo.csv\")          \n",
    "student_info.head()"
   ]
  },
  {
   "cell_type": "markdown",
   "id": "e3d63de6",
   "metadata": {
    "lines_to_next_cell": 2
   },
   "source": [
    "\n",
    "Here are my description of columns in studentInfo.csv:\n",
    "- `code_module`: The module (course) code (e.g., AAA, BBB). Categorical, one-hot encode.\n",
    "- `code_presentation`: The presentation (semester) code (e.g., 2013J, 2014B). Categorical, one-hot encode.\n",
    "- `id_student`: Unique identifier for each student. Identifier, drop as it does not contribute to prediction.\n",
    "- `gender`: Gender of the student (e.g., Male, Female). Binary, label encode.\n",
    "- `region`: Geographic region of the student. There are 13 unique values, so it can be Categorical, one-hot encode.\n",
    "- `highest_education`: Highest education level achieved by the student. There are 5 unique values, so it can be Categorical, one-hot encode.\n",
    "- `imd_band`: Index of Multiple Deprivation (socioeconomic status). Ordinal, encode as numerical scale (0-9).\n",
    "- `age_band`: Age group of the student (e.g., 0-35, 35-55, 55+). Ordinal, encode as numerical scale (0-2).\n",
    "- `num_of_prev_attempts`: Number of previous attempts at the module. Numeric, keep as is.\n",
    "- `studied_credits`: Number of credits the student is studying. Numeric, keep as is.\n",
    "- `disability`: Whether the student has declared a disability (e.g., Y, N). Binary, label encode.\n",
    "- `final_result`: The final outcome of the student (Pass, Fail, Withdrawn, Distinction). Target variable, label encode.\n",
    "\n",
    "Decision:\n",
    "- Drop `id_student` as it is an identifier.\n",
    "- One-hot encode `code_module`, `code_presentation`, `region`, and `highest_education`.\n",
    "- Label encode `gender` and `disability`.\n",
    "- Ordinal encode `imd_band` and `age_band`.\n",
    "- Keep `num_of_prev_attempts` and `studied_credits` as numeric features.\n",
    "- Label encode `final_result` as the target variable."
   ]
  },
  {
   "cell_type": "markdown",
   "id": "a49d319c",
   "metadata": {},
   "source": [
    "\n",
    "## Assessments and student Assessments"
   ]
  },
  {
   "cell_type": "code",
   "execution_count": 3,
   "id": "6e35edde",
   "metadata": {
    "execution": {
     "iopub.execute_input": "2025-10-13T13:58:21.780314Z",
     "iopub.status.busy": "2025-10-13T13:58:21.780227Z",
     "iopub.status.idle": "2025-10-13T13:58:21.785448Z",
     "shell.execute_reply": "2025-10-13T13:58:21.785236Z"
    }
   },
   "outputs": [
    {
     "data": {
      "text/html": [
       "<div>\n",
       "<style scoped>\n",
       "    .dataframe tbody tr th:only-of-type {\n",
       "        vertical-align: middle;\n",
       "    }\n",
       "\n",
       "    .dataframe tbody tr th {\n",
       "        vertical-align: top;\n",
       "    }\n",
       "\n",
       "    .dataframe thead th {\n",
       "        text-align: right;\n",
       "    }\n",
       "</style>\n",
       "<table border=\"1\" class=\"dataframe\">\n",
       "  <thead>\n",
       "    <tr style=\"text-align: right;\">\n",
       "      <th></th>\n",
       "      <th>code_module</th>\n",
       "      <th>code_presentation</th>\n",
       "      <th>id_assessment</th>\n",
       "      <th>assessment_type</th>\n",
       "      <th>date</th>\n",
       "      <th>weight</th>\n",
       "    </tr>\n",
       "  </thead>\n",
       "  <tbody>\n",
       "    <tr>\n",
       "      <th>0</th>\n",
       "      <td>AAA</td>\n",
       "      <td>2013J</td>\n",
       "      <td>1752</td>\n",
       "      <td>TMA</td>\n",
       "      <td>19.0</td>\n",
       "      <td>10.0</td>\n",
       "    </tr>\n",
       "    <tr>\n",
       "      <th>1</th>\n",
       "      <td>AAA</td>\n",
       "      <td>2013J</td>\n",
       "      <td>1753</td>\n",
       "      <td>TMA</td>\n",
       "      <td>54.0</td>\n",
       "      <td>20.0</td>\n",
       "    </tr>\n",
       "    <tr>\n",
       "      <th>2</th>\n",
       "      <td>AAA</td>\n",
       "      <td>2013J</td>\n",
       "      <td>1754</td>\n",
       "      <td>TMA</td>\n",
       "      <td>117.0</td>\n",
       "      <td>20.0</td>\n",
       "    </tr>\n",
       "    <tr>\n",
       "      <th>3</th>\n",
       "      <td>AAA</td>\n",
       "      <td>2013J</td>\n",
       "      <td>1755</td>\n",
       "      <td>TMA</td>\n",
       "      <td>166.0</td>\n",
       "      <td>20.0</td>\n",
       "    </tr>\n",
       "    <tr>\n",
       "      <th>4</th>\n",
       "      <td>AAA</td>\n",
       "      <td>2013J</td>\n",
       "      <td>1756</td>\n",
       "      <td>TMA</td>\n",
       "      <td>215.0</td>\n",
       "      <td>30.0</td>\n",
       "    </tr>\n",
       "  </tbody>\n",
       "</table>\n",
       "</div>"
      ],
      "text/plain": [
       "  code_module code_presentation  id_assessment assessment_type   date  weight\n",
       "0         AAA             2013J           1752             TMA   19.0    10.0\n",
       "1         AAA             2013J           1753             TMA   54.0    20.0\n",
       "2         AAA             2013J           1754             TMA  117.0    20.0\n",
       "3         AAA             2013J           1755             TMA  166.0    20.0\n",
       "4         AAA             2013J           1756             TMA  215.0    30.0"
      ]
     },
     "execution_count": 3,
     "metadata": {},
     "output_type": "execute_result"
    }
   ],
   "source": [
    "# Assessment metadata (weights, types)\n",
    "assessments = pd.read_csv(f\"{base_path}/assessments.csv\")\n",
    "assessments.head()"
   ]
  },
  {
   "cell_type": "markdown",
   "id": "6938368a",
   "metadata": {},
   "source": [
    "\n",
    "Here are my description of columns in assessments.csv:\n",
    "- `code_module`: The module (course) code. Identifier for joining with other tables.\n",
    "- `code_presentation`: The presentation (semester) code. Identifier for joining with other tables.\n",
    "- `id_assessment`: Unique identifier for each assessment. Primary key.\n",
    "- `assessment_type`: Type of assessment (e.g., TMA, CMA, Exam). Categorical variable.\n",
    "- `date`: Due date of the assessment (days from module start). Numeric, can be used to understand timing.\n",
    "- `weight`: Weight of the assessment in the final grade (e.g., 10%, 40%). Numeric, crucial for calculating weighted scores.\n",
    "\n",
    "Decision:\n",
    "- This table will be joined with studentAssessment to enrich score records with assessment metadata.\n",
    "- The `weight` column is essential for calculating weighted average scores.\n",
    "- After joining and aggregation, this table won't contribute direct features; instead it helps compute `avg_assessment_score`."
   ]
  },
  {
   "cell_type": "code",
   "execution_count": 4,
   "id": "74df6099",
   "metadata": {
    "execution": {
     "iopub.execute_input": "2025-10-13T13:58:21.786651Z",
     "iopub.status.busy": "2025-10-13T13:58:21.786576Z",
     "iopub.status.idle": "2025-10-13T13:58:21.822923Z",
     "shell.execute_reply": "2025-10-13T13:58:21.822670Z"
    }
   },
   "outputs": [
    {
     "data": {
      "text/html": [
       "<div>\n",
       "<style scoped>\n",
       "    .dataframe tbody tr th:only-of-type {\n",
       "        vertical-align: middle;\n",
       "    }\n",
       "\n",
       "    .dataframe tbody tr th {\n",
       "        vertical-align: top;\n",
       "    }\n",
       "\n",
       "    .dataframe thead th {\n",
       "        text-align: right;\n",
       "    }\n",
       "</style>\n",
       "<table border=\"1\" class=\"dataframe\">\n",
       "  <thead>\n",
       "    <tr style=\"text-align: right;\">\n",
       "      <th></th>\n",
       "      <th>id_assessment</th>\n",
       "      <th>id_student</th>\n",
       "      <th>date_submitted</th>\n",
       "      <th>is_banked</th>\n",
       "      <th>score</th>\n",
       "    </tr>\n",
       "  </thead>\n",
       "  <tbody>\n",
       "    <tr>\n",
       "      <th>0</th>\n",
       "      <td>1752</td>\n",
       "      <td>11391</td>\n",
       "      <td>18</td>\n",
       "      <td>0</td>\n",
       "      <td>78.0</td>\n",
       "    </tr>\n",
       "    <tr>\n",
       "      <th>1</th>\n",
       "      <td>1752</td>\n",
       "      <td>28400</td>\n",
       "      <td>22</td>\n",
       "      <td>0</td>\n",
       "      <td>70.0</td>\n",
       "    </tr>\n",
       "    <tr>\n",
       "      <th>2</th>\n",
       "      <td>1752</td>\n",
       "      <td>31604</td>\n",
       "      <td>17</td>\n",
       "      <td>0</td>\n",
       "      <td>72.0</td>\n",
       "    </tr>\n",
       "    <tr>\n",
       "      <th>3</th>\n",
       "      <td>1752</td>\n",
       "      <td>32885</td>\n",
       "      <td>26</td>\n",
       "      <td>0</td>\n",
       "      <td>69.0</td>\n",
       "    </tr>\n",
       "    <tr>\n",
       "      <th>4</th>\n",
       "      <td>1752</td>\n",
       "      <td>38053</td>\n",
       "      <td>19</td>\n",
       "      <td>0</td>\n",
       "      <td>79.0</td>\n",
       "    </tr>\n",
       "  </tbody>\n",
       "</table>\n",
       "</div>"
      ],
      "text/plain": [
       "   id_assessment  id_student  date_submitted  is_banked  score\n",
       "0           1752       11391              18          0   78.0\n",
       "1           1752       28400              22          0   70.0\n",
       "2           1752       31604              17          0   72.0\n",
       "3           1752       32885              26          0   69.0\n",
       "4           1752       38053              19          0   79.0"
      ]
     },
     "execution_count": 4,
     "metadata": {},
     "output_type": "execute_result"
    }
   ],
   "source": [
    "# Individual assessment scores\n",
    "student_assessment = pd.read_csv(f\"{base_path}/studentAssessment.csv\")\n",
    "student_assessment.head()"
   ]
  },
  {
   "cell_type": "markdown",
   "id": "ebc3fd17",
   "metadata": {},
   "source": [
    "\n",
    "Here are my description of columns in studentAssessment.csv:\n",
    "- `id_assessment`: Links to the assessment identifier in assessments.csv. Foreign key.\n",
    "- `id_student`: Links to the student identifier. Foreign key.\n",
    "- `date_submitted`: When the student submitted the assessment (days from module start). Numeric.\n",
    "- `is_banked`: Whether the assessment result was banked from a previous presentation. Binary (0/1).\n",
    "- `score`: The score achieved by the student (0-100). Numeric, our key performance metric.\n",
    "\n",
    "Decision:\n",
    "- Join with assessments to get weights for each score.\n",
    "- Aggregate `score` (weighted by assessment weights) per student to create `avg_assessment_score` feature.\n",
    "- Individual assessment records won't be kept; only the aggregated weighted average will be merged into the main dataset."
   ]
  },
  {
   "cell_type": "markdown",
   "id": "f830f8aa",
   "metadata": {
    "lines_to_next_cell": 0
   },
   "source": [
    "\n",
    "**Note on assessment weights:**\n",
    "Each assessment has a different weight (e.g., final exam = 40%, quiz = 10%). When calculating a student's average score, we should use weighted average instead of simple mean. Otherwise, a small quiz would count as much as the final exam, which doesn't reflect the real grading scheme.\n",
    "\n",
    "\n",
    "## student Registration "
   ]
  },
  {
   "cell_type": "code",
   "execution_count": 5,
   "id": "d5fb2073",
   "metadata": {
    "execution": {
     "iopub.execute_input": "2025-10-13T13:58:21.824287Z",
     "iopub.status.busy": "2025-10-13T13:58:21.824202Z",
     "iopub.status.idle": "2025-10-13T13:58:21.837681Z",
     "shell.execute_reply": "2025-10-13T13:58:21.837437Z"
    }
   },
   "outputs": [
    {
     "data": {
      "text/html": [
       "<div>\n",
       "<style scoped>\n",
       "    .dataframe tbody tr th:only-of-type {\n",
       "        vertical-align: middle;\n",
       "    }\n",
       "\n",
       "    .dataframe tbody tr th {\n",
       "        vertical-align: top;\n",
       "    }\n",
       "\n",
       "    .dataframe thead th {\n",
       "        text-align: right;\n",
       "    }\n",
       "</style>\n",
       "<table border=\"1\" class=\"dataframe\">\n",
       "  <thead>\n",
       "    <tr style=\"text-align: right;\">\n",
       "      <th></th>\n",
       "      <th>code_module</th>\n",
       "      <th>code_presentation</th>\n",
       "      <th>id_student</th>\n",
       "      <th>date_registration</th>\n",
       "      <th>date_unregistration</th>\n",
       "    </tr>\n",
       "  </thead>\n",
       "  <tbody>\n",
       "    <tr>\n",
       "      <th>0</th>\n",
       "      <td>AAA</td>\n",
       "      <td>2013J</td>\n",
       "      <td>11391</td>\n",
       "      <td>-159.0</td>\n",
       "      <td>NaN</td>\n",
       "    </tr>\n",
       "    <tr>\n",
       "      <th>1</th>\n",
       "      <td>AAA</td>\n",
       "      <td>2013J</td>\n",
       "      <td>28400</td>\n",
       "      <td>-53.0</td>\n",
       "      <td>NaN</td>\n",
       "    </tr>\n",
       "    <tr>\n",
       "      <th>2</th>\n",
       "      <td>AAA</td>\n",
       "      <td>2013J</td>\n",
       "      <td>30268</td>\n",
       "      <td>-92.0</td>\n",
       "      <td>12.0</td>\n",
       "    </tr>\n",
       "    <tr>\n",
       "      <th>3</th>\n",
       "      <td>AAA</td>\n",
       "      <td>2013J</td>\n",
       "      <td>31604</td>\n",
       "      <td>-52.0</td>\n",
       "      <td>NaN</td>\n",
       "    </tr>\n",
       "    <tr>\n",
       "      <th>4</th>\n",
       "      <td>AAA</td>\n",
       "      <td>2013J</td>\n",
       "      <td>32885</td>\n",
       "      <td>-176.0</td>\n",
       "      <td>NaN</td>\n",
       "    </tr>\n",
       "  </tbody>\n",
       "</table>\n",
       "</div>"
      ],
      "text/plain": [
       "  code_module code_presentation  id_student  date_registration  \\\n",
       "0         AAA             2013J       11391             -159.0   \n",
       "1         AAA             2013J       28400              -53.0   \n",
       "2         AAA             2013J       30268              -92.0   \n",
       "3         AAA             2013J       31604              -52.0   \n",
       "4         AAA             2013J       32885             -176.0   \n",
       "\n",
       "   date_unregistration  \n",
       "0                  NaN  \n",
       "1                  NaN  \n",
       "2                 12.0  \n",
       "3                  NaN  \n",
       "4                  NaN  "
      ]
     },
     "execution_count": 5,
     "metadata": {},
     "output_type": "execute_result"
    }
   ],
   "source": [
    "# Registration/withdrawal dates\n",
    "student_registration = pd.read_csv(f\"{base_path}/studentRegistration.csv\")\n",
    "student_registration.head()"
   ]
  },
  {
   "cell_type": "markdown",
   "id": "f5d8048d",
   "metadata": {
    "lines_to_next_cell": 0
   },
   "source": [
    "\n",
    "Here are my description of columns in studentRegistration.csv:\n",
    "- `code_module`: The module (course) code. Identifier for joining.\n",
    "- `code_presentation`: The presentation (semester) code. Identifier for joining.\n",
    "- `id_student`: Unique student identifier. Identifier for joining.\n",
    "- `date_registration`: Day when the student registered (relative to module start). Numeric, indicates early/late registration.\n",
    "- `date_unregistration`: Day when the student unregistered (if they withdrew). Numeric with ~70% missing (students who didn't withdraw).\n",
    "\n",
    "Decision:\n",
    "- Merge with main dataset on student and course identifiers.\n",
    "- Keep `date_registration` as a numeric feature (impute missing with median).\n",
    "- **Drop `date_unregistration`**: This feature creates data leakage! Students who withdrew have non-null `date_unregistration`, which directly reveals that their `final_result='Withdrawn'`. Using this would be cheating - the model would just learn \"if date_unregistration exists, predict Withdrawn\". For fair prediction, I must exclude this feature.\n",
    "\n",
    "\n",
    "## 3.4 VLE activity metadata "
   ]
  },
  {
   "cell_type": "code",
   "execution_count": 6,
   "id": "f267d16a",
   "metadata": {
    "execution": {
     "iopub.execute_input": "2025-10-13T13:58:21.839024Z",
     "iopub.status.busy": "2025-10-13T13:58:21.838935Z",
     "iopub.status.idle": "2025-10-13T13:58:21.845304Z",
     "shell.execute_reply": "2025-10-13T13:58:21.845070Z"
    }
   },
   "outputs": [
    {
     "data": {
      "text/html": [
       "<div>\n",
       "<style scoped>\n",
       "    .dataframe tbody tr th:only-of-type {\n",
       "        vertical-align: middle;\n",
       "    }\n",
       "\n",
       "    .dataframe tbody tr th {\n",
       "        vertical-align: top;\n",
       "    }\n",
       "\n",
       "    .dataframe thead th {\n",
       "        text-align: right;\n",
       "    }\n",
       "</style>\n",
       "<table border=\"1\" class=\"dataframe\">\n",
       "  <thead>\n",
       "    <tr style=\"text-align: right;\">\n",
       "      <th></th>\n",
       "      <th>id_site</th>\n",
       "      <th>code_module</th>\n",
       "      <th>code_presentation</th>\n",
       "      <th>activity_type</th>\n",
       "      <th>week_from</th>\n",
       "      <th>week_to</th>\n",
       "    </tr>\n",
       "  </thead>\n",
       "  <tbody>\n",
       "    <tr>\n",
       "      <th>0</th>\n",
       "      <td>546943</td>\n",
       "      <td>AAA</td>\n",
       "      <td>2013J</td>\n",
       "      <td>resource</td>\n",
       "      <td>NaN</td>\n",
       "      <td>NaN</td>\n",
       "    </tr>\n",
       "    <tr>\n",
       "      <th>1</th>\n",
       "      <td>546712</td>\n",
       "      <td>AAA</td>\n",
       "      <td>2013J</td>\n",
       "      <td>oucontent</td>\n",
       "      <td>NaN</td>\n",
       "      <td>NaN</td>\n",
       "    </tr>\n",
       "    <tr>\n",
       "      <th>2</th>\n",
       "      <td>546998</td>\n",
       "      <td>AAA</td>\n",
       "      <td>2013J</td>\n",
       "      <td>resource</td>\n",
       "      <td>NaN</td>\n",
       "      <td>NaN</td>\n",
       "    </tr>\n",
       "    <tr>\n",
       "      <th>3</th>\n",
       "      <td>546888</td>\n",
       "      <td>AAA</td>\n",
       "      <td>2013J</td>\n",
       "      <td>url</td>\n",
       "      <td>NaN</td>\n",
       "      <td>NaN</td>\n",
       "    </tr>\n",
       "    <tr>\n",
       "      <th>4</th>\n",
       "      <td>547035</td>\n",
       "      <td>AAA</td>\n",
       "      <td>2013J</td>\n",
       "      <td>resource</td>\n",
       "      <td>NaN</td>\n",
       "      <td>NaN</td>\n",
       "    </tr>\n",
       "  </tbody>\n",
       "</table>\n",
       "</div>"
      ],
      "text/plain": [
       "   id_site code_module code_presentation activity_type  week_from  week_to\n",
       "0   546943         AAA             2013J      resource        NaN      NaN\n",
       "1   546712         AAA             2013J     oucontent        NaN      NaN\n",
       "2   546998         AAA             2013J      resource        NaN      NaN\n",
       "3   546888         AAA             2013J           url        NaN      NaN\n",
       "4   547035         AAA             2013J      resource        NaN      NaN"
      ]
     },
     "execution_count": 6,
     "metadata": {},
     "output_type": "execute_result"
    }
   ],
   "source": [
    "# VLE activity metadata (not used directly)\n",
    "vle = pd.read_csv(f\"{base_path}/vle.csv\")\n",
    "vle.head()"
   ]
  },
  {
   "cell_type": "markdown",
   "id": "ff5f4d27",
   "metadata": {},
   "source": [
    "\n",
    "Here are my description of columns in vle.csv:\n",
    "- `id_site`: Unique identifier for each VLE activity/resource.\n",
    "- `code_module`: The module (course) code. Identifier for joining.\n",
    "- `code_presentation`: The presentation (semester) code. Identifier for joining.\n",
    "- `activity_type`: Type of VLE resource (e.g., forum, resource, homepage). Categorical.\n",
    "- `week_from`: Week when the activity was available (relative to module start). Numeric.\n",
    "- `week_to`: Week when the activity stopped being available. Numeric.\n",
    "\n",
    "Decision:\n",
    "- This is metadata about VLE resources, not student behavior.\n",
    "- We don't use this directly; instead we aggregate student interactions from studentVle.\n",
    "- Drop this table after understanding the VLE structure.\n",
    "\n",
    "\n",
    "## Student-VLE interaction logs "
   ]
  },
  {
   "cell_type": "code",
   "execution_count": 7,
   "id": "d5fee4da",
   "metadata": {
    "execution": {
     "iopub.execute_input": "2025-10-13T13:58:21.846530Z",
     "iopub.status.busy": "2025-10-13T13:58:21.846457Z",
     "iopub.status.idle": "2025-10-13T13:58:24.294037Z",
     "shell.execute_reply": "2025-10-13T13:58:24.293687Z"
    }
   },
   "outputs": [
    {
     "data": {
      "text/html": [
       "<div>\n",
       "<style scoped>\n",
       "    .dataframe tbody tr th:only-of-type {\n",
       "        vertical-align: middle;\n",
       "    }\n",
       "\n",
       "    .dataframe tbody tr th {\n",
       "        vertical-align: top;\n",
       "    }\n",
       "\n",
       "    .dataframe thead th {\n",
       "        text-align: right;\n",
       "    }\n",
       "</style>\n",
       "<table border=\"1\" class=\"dataframe\">\n",
       "  <thead>\n",
       "    <tr style=\"text-align: right;\">\n",
       "      <th></th>\n",
       "      <th>code_module</th>\n",
       "      <th>code_presentation</th>\n",
       "      <th>id_student</th>\n",
       "      <th>id_site</th>\n",
       "      <th>date</th>\n",
       "      <th>sum_click</th>\n",
       "    </tr>\n",
       "  </thead>\n",
       "  <tbody>\n",
       "    <tr>\n",
       "      <th>0</th>\n",
       "      <td>AAA</td>\n",
       "      <td>2013J</td>\n",
       "      <td>28400</td>\n",
       "      <td>546652</td>\n",
       "      <td>-10</td>\n",
       "      <td>4</td>\n",
       "    </tr>\n",
       "    <tr>\n",
       "      <th>1</th>\n",
       "      <td>AAA</td>\n",
       "      <td>2013J</td>\n",
       "      <td>28400</td>\n",
       "      <td>546652</td>\n",
       "      <td>-10</td>\n",
       "      <td>1</td>\n",
       "    </tr>\n",
       "    <tr>\n",
       "      <th>2</th>\n",
       "      <td>AAA</td>\n",
       "      <td>2013J</td>\n",
       "      <td>28400</td>\n",
       "      <td>546652</td>\n",
       "      <td>-10</td>\n",
       "      <td>1</td>\n",
       "    </tr>\n",
       "    <tr>\n",
       "      <th>3</th>\n",
       "      <td>AAA</td>\n",
       "      <td>2013J</td>\n",
       "      <td>28400</td>\n",
       "      <td>546614</td>\n",
       "      <td>-10</td>\n",
       "      <td>11</td>\n",
       "    </tr>\n",
       "    <tr>\n",
       "      <th>4</th>\n",
       "      <td>AAA</td>\n",
       "      <td>2013J</td>\n",
       "      <td>28400</td>\n",
       "      <td>546714</td>\n",
       "      <td>-10</td>\n",
       "      <td>1</td>\n",
       "    </tr>\n",
       "  </tbody>\n",
       "</table>\n",
       "</div>"
      ],
      "text/plain": [
       "  code_module code_presentation  id_student  id_site  date  sum_click\n",
       "0         AAA             2013J       28400   546652   -10          4\n",
       "1         AAA             2013J       28400   546652   -10          1\n",
       "2         AAA             2013J       28400   546652   -10          1\n",
       "3         AAA             2013J       28400   546614   -10         11\n",
       "4         AAA             2013J       28400   546714   -10          1"
      ]
     },
     "execution_count": 7,
     "metadata": {},
     "output_type": "execute_result"
    }
   ],
   "source": [
    "# Student-VLE interaction logs\n",
    "student_vle = pd.read_csv(f\"{base_path}/studentVle.csv\")\n",
    "student_vle.head()"
   ]
  },
  {
   "cell_type": "markdown",
   "id": "5eb723c5",
   "metadata": {},
   "source": [
    "\n",
    "Here are my description of columns in studentVle.csv:\n",
    "- `code_module`: The module (course) code. Identifier for joining.\n",
    "- `code_presentation`: The presentation (semester) code. Identifier for joining.\n",
    "- `id_student`: Unique student identifier. Identifier for joining.\n",
    "- `id_site`: Links to the VLE activity in vle.csv. Foreign key.\n",
    "- `date`: Day when the student accessed the VLE resource (relative to module start). Numeric.\n",
    "- `sum_click`: Number of clicks on that resource on that day. Numeric, our engagement metric.\n",
    "\n",
    "Decision:\n",
    "- Aggregate `sum_click` across all activities and dates per student to create total engagement feature.\n",
    "- This gives us one `sum_click` value per student-module, representing total VLE activity.\n",
    "- Individual click records won't be kept; only the aggregated sum will be merged into the main dataset.\n",
    "\n",
    "## Courses metadata"
   ]
  },
  {
   "cell_type": "code",
   "execution_count": 8,
   "id": "68ce64f5",
   "metadata": {
    "execution": {
     "iopub.execute_input": "2025-10-13T13:58:24.295699Z",
     "iopub.status.busy": "2025-10-13T13:58:24.295573Z",
     "iopub.status.idle": "2025-10-13T13:58:24.304037Z",
     "shell.execute_reply": "2025-10-13T13:58:24.303774Z"
    }
   },
   "outputs": [
    {
     "data": {
      "text/html": [
       "<div>\n",
       "<style scoped>\n",
       "    .dataframe tbody tr th:only-of-type {\n",
       "        vertical-align: middle;\n",
       "    }\n",
       "\n",
       "    .dataframe tbody tr th {\n",
       "        vertical-align: top;\n",
       "    }\n",
       "\n",
       "    .dataframe thead th {\n",
       "        text-align: right;\n",
       "    }\n",
       "</style>\n",
       "<table border=\"1\" class=\"dataframe\">\n",
       "  <thead>\n",
       "    <tr style=\"text-align: right;\">\n",
       "      <th></th>\n",
       "      <th>code_module</th>\n",
       "      <th>code_presentation</th>\n",
       "      <th>module_presentation_length</th>\n",
       "    </tr>\n",
       "  </thead>\n",
       "  <tbody>\n",
       "    <tr>\n",
       "      <th>0</th>\n",
       "      <td>AAA</td>\n",
       "      <td>2013J</td>\n",
       "      <td>268</td>\n",
       "    </tr>\n",
       "    <tr>\n",
       "      <th>1</th>\n",
       "      <td>AAA</td>\n",
       "      <td>2014J</td>\n",
       "      <td>269</td>\n",
       "    </tr>\n",
       "    <tr>\n",
       "      <th>2</th>\n",
       "      <td>BBB</td>\n",
       "      <td>2013J</td>\n",
       "      <td>268</td>\n",
       "    </tr>\n",
       "    <tr>\n",
       "      <th>3</th>\n",
       "      <td>BBB</td>\n",
       "      <td>2014J</td>\n",
       "      <td>262</td>\n",
       "    </tr>\n",
       "    <tr>\n",
       "      <th>4</th>\n",
       "      <td>BBB</td>\n",
       "      <td>2013B</td>\n",
       "      <td>240</td>\n",
       "    </tr>\n",
       "  </tbody>\n",
       "</table>\n",
       "</div>"
      ],
      "text/plain": [
       "  code_module code_presentation  module_presentation_length\n",
       "0         AAA             2013J                         268\n",
       "1         AAA             2014J                         269\n",
       "2         BBB             2013J                         268\n",
       "3         BBB             2014J                         262\n",
       "4         BBB             2013B                         240"
      ]
     },
     "execution_count": 8,
     "metadata": {},
     "output_type": "execute_result"
    }
   ],
   "source": [
    "# Course metadata (not used directly)\n",
    "courses = pd.read_csv(f\"{base_path}/courses.csv\")\n",
    "courses.head()"
   ]
  },
  {
   "cell_type": "markdown",
   "id": "dd1413d9",
   "metadata": {},
   "source": [
    "\n",
    "Here are my description of columns in courses.csv:\n",
    "- `code_module`: The module (course) code. Primary key.\n",
    "- `code_presentation`: The presentation (semester) code. Primary key.\n",
    "- `module_presentation_length`: Duration of the module in days. Numeric.\n",
    "\n",
    "Decision:\n",
    "- This provides course-level metadata but doesn't describe individual student behavior.\n",
    "- Module and presentation are already captured as identifiers in studentInfo.\n",
    "- Drop this table; we already one-hot encode `code_module` and `code_presentation` from the main dataset."
   ]
  },
  {
   "cell_type": "code",
   "execution_count": 9,
   "id": "cadc80cf",
   "metadata": {
    "execution": {
     "iopub.execute_input": "2025-10-13T13:58:24.305380Z",
     "iopub.status.busy": "2025-10-13T13:58:24.305296Z",
     "iopub.status.idle": "2025-10-13T13:58:26.731214Z",
     "shell.execute_reply": "2025-10-13T13:58:26.730887Z"
    },
    "lines_to_next_cell": 2
   },
   "outputs": [
    {
     "name": "stdout",
     "output_type": "stream",
     "text": [
      "\n",
      "============================================================\n",
      "UNIFIED DATASET SUMMARY\n",
      "============================================================\n",
      "Shape: 32,593 rows × 14 columns\n",
      "\n",
      "Columns (14):\n",
      "  code_module, code_presentation, gender, region,\n",
      "  highest_education, imd_band, age_band,\n",
      "  num_of_prev_attempts, studied_credits, disability,\n",
      "  final_result, date_registration, sum_click,\n",
      "  avg_assessment_score\n",
      "\n",
      "Key statistics:\n",
      "  Total records: 32,593\n",
      "  Unique modules (courses): 7\n",
      "  Unique presentations: 4\n",
      "  Unique regions: 13\n",
      "\n",
      "Target variable (final_result) distribution:\n",
      "  Distinction: 3,024 (9.3%)\n",
      "  Fail: 7,052 (21.6%)\n",
      "  Pass: 12,361 (37.9%)\n",
      "  Withdrawn: 10,156 (31.2%)\n",
      "============================================================\n",
      "\n"
     ]
    },
    {
     "name": "stderr",
     "output_type": "stream",
     "text": [
      "/var/folders/xv/sq3xbpxs1f57w2gn2npn8ftr0000gn/T/ipykernel_96041/4187568198.py:28: FutureWarning: DataFrameGroupBy.apply operated on the grouping columns. This behavior is deprecated, and in a future version of pandas the grouping columns will be excluded from the operation. Either pass `include_groups=False` to exclude the groupings or explicitly select the grouping columns after groupby to silence this warning.\n",
      "  ).apply(calc_weighted_score).reset_index(name=\"avg_assessment_score\")\n"
     ]
    }
   ],
   "source": [
    "\n",
    "# Step 1: Create enriched assessment data by joining scores with assessment metadata\n",
    "# This adds assessment details (type, weight, due date) to each student's score record\n",
    "assessments_full = student_assessment.merge(assessments, on=\"id_assessment\", how=\"left\")\n",
    "\n",
    "# Step 2: Start with the core student info + registration data\n",
    "# Use left join to preserve all students, even if they have missing registration records\n",
    "df = student_info.merge(student_registration, on=[\"id_student\", \"code_module\", \"code_presentation\"], how=\"left\")\n",
    "\n",
    "# Step 3: Aggregate VLE engagement data per student-module combination\n",
    "# Sum all clicks across different VLE activities for each student in each course\n",
    "agg_clicks = student_vle.groupby([\"id_student\", \"code_module\", \"code_presentation\"])[\"sum_click\"].sum().reset_index()\n",
    "# Left join to preserve students who may have zero VLE activity (will get NaN, handled later)\n",
    "df = df.merge(agg_clicks, on=[\"id_student\", \"code_module\", \"code_presentation\"], how=\"left\")\n",
    "\n",
    "# Step 4: Aggregate assessment performance per student-module combination\n",
    "# Calculate WEIGHTED mean score across all assessments for each student in each course\n",
    "# This respects the importance of each assessment (e.g., final exams vs. homework)\n",
    "def calc_weighted_score(group):\n",
    "    \"\"\"Calculate weighted average score, using assessment weights.\"\"\"\n",
    "    total_weight = group['weight'].sum()\n",
    "    if total_weight > 0:\n",
    "        return (group['score'] * group['weight']).sum() / total_weight\n",
    "    # Fallback to simple mean if weights are missing or zero\n",
    "    return group['score'].mean()\n",
    "\n",
    "agg_scores = assessments_full.groupby(\n",
    "    [\"id_student\", \"code_module\", \"code_presentation\"]\n",
    ").apply(calc_weighted_score).reset_index(name=\"avg_assessment_score\")\n",
    "# Left join to preserve students who may have no assessment records (will get NaN)\n",
    "df = df.merge(agg_scores, on=[\"id_student\", \"code_module\", \"code_presentation\"], how=\"left\")\n",
    "\n",
    "# Drop columns after all merges are complete\n",
    "# Drop date_unregistration to avoid data leakage (see Decision in section 3.3)\n",
    "# Drop id_student as it's just an identifier (see Decision in section 3.1)\n",
    "df = df.drop(columns=['date_unregistration', 'id_student'])\n",
    "df.head()\n",
    "# Verify the final merged dataset structure\n",
    "import textwrap\n",
    "print(\"\\n\" + \"=\"*60)\n",
    "print(\"UNIFIED DATASET SUMMARY\")\n",
    "print(\"=\"*60)\n",
    "print(f\"Shape: {df.shape[0]:,} rows × {df.shape[1]} columns\")\n",
    "print(f\"\\nColumns ({len(df.columns)}):\")\n",
    "print(textwrap.fill(', '.join(df.columns), width=60, initial_indent='  ', subsequent_indent='  '))\n",
    "\n",
    "print(f\"\\nKey statistics:\")\n",
    "print(f\"  Total records: {len(df):,}\")\n",
    "print(f\"  Unique modules (courses): {df['code_module'].nunique()}\")\n",
    "print(f\"  Unique presentations: {df['code_presentation'].nunique()}\")\n",
    "print(f\"  Unique regions: {df['region'].nunique()}\")\n",
    "\n",
    "print(f\"\\nTarget variable ({TARGET_COL}) distribution:\")\n",
    "for outcome, count in df[TARGET_COL].value_counts().sort_index().items():\n",
    "    pct = count / len(df) * 100\n",
    "    print(f\"  {outcome}: {count:,} ({pct:.1f}%)\")\n",
    "\n",
    "print(\"=\"*60 + \"\\n\")"
   ]
  },
  {
   "cell_type": "markdown",
   "id": "a83e10a5",
   "metadata": {},
   "source": [
    "# 4. Data Cleaning\n",
    "\n",
    "We inspect missing values, unify dtypes, and check imbalance.\n",
    "Numerical NaNs → median imputation, categorical handled later.\n",
    "Target kept as categorical (4 classes).\n",
    "\n",
    "## Missing Value Visualization"
   ]
  },
  {
   "cell_type": "code",
   "execution_count": 10,
   "id": "53c3ef32",
   "metadata": {
    "execution": {
     "iopub.execute_input": "2025-10-13T13:58:26.732656Z",
     "iopub.status.busy": "2025-10-13T13:58:26.732560Z",
     "iopub.status.idle": "2025-10-13T13:58:26.961366Z",
     "shell.execute_reply": "2025-10-13T13:58:26.961041Z"
    }
   },
   "outputs": [
    {
     "data": {
      "image/png": "[encoded data removed]",
      "text/plain": [
       "<Figure size 600x600 with 1 Axes>"
      ]
     },
     "metadata": {},
     "output_type": "display_data"
    }
   ],
   "source": [
    "# Analyze missing values\n",
    "miss = df.isna().sum().sort_values(ascending=False)\n",
    "top_miss = miss[miss > 0].head(15)\n",
    "\n",
    "# Plot missing values\n",
    "plt.figure(figsize=(6,6))\n",
    "plt.bar(top_miss.index, top_miss.values, color='steelblue')\n",
    "plt.yscale('log')\n",
    "plt.ylim(1, 1e4)\n",
    "plt.title(\"Missingness Count\", fontweight=\"bold\", color=\"#2E4053\")\n",
    "plt.xlabel(\"Feature\")\n",
    "plt.ylabel(\"Missing Count\")\n",
    "plt.xticks(rotation=45, ha=\"right\")\n",
    "plt.tight_layout()\n",
    "plt.show()"
   ]
  },
  {
   "cell_type": "markdown",
   "id": "e75b023c",
   "metadata": {},
   "source": [
    "## Missing Value Analysis\n",
    "\n",
    "The plot shows key missing patterns. `avg_assessment_score` (21% missing) likely represents early dropouts - I'll use median imputation. `sum_click` (10% missing) will be filled with 0 since no engagement genuinely means zero clicks, not missing data. `imd_band` (3% missing) gets mode imputation, and `date_registration` (<1% missing) gets median. Note: `date_unregistration` was already dropped to avoid data leakage. "
   ]
  },
  {
   "cell_type": "markdown",
   "id": "02968f22",
   "metadata": {},
   "source": [
    "## Impute Missing Values\n",
    "Now I'll implement the strategy described above."
   ]
  },
  {
   "cell_type": "code",
   "execution_count": 11,
   "id": "d9ef80b9",
   "metadata": {
    "execution": {
     "iopub.execute_input": "2025-10-13T13:58:26.962736Z",
     "iopub.status.busy": "2025-10-13T13:58:26.962634Z",
     "iopub.status.idle": "2025-10-13T13:58:26.983004Z",
     "shell.execute_reply": "2025-10-13T13:58:26.982712Z"
    }
   },
   "outputs": [
    {
     "name": "stdout",
     "output_type": "stream",
     "text": [
      "Remaining missing values:\n",
      "Series([], dtype: int64)\n"
     ]
    }
   ],
   "source": [
    "# Apply missing value imputation based on the analysis above\n",
    "# 1. sum_click: fill with 0 (no engagement = 0 clicks)\n",
    "df['sum_click'] = df['sum_click'].fillna(0)\n",
    "\n",
    "# 2. avg_assessment_score: median imputation (likely dropouts)\n",
    "df['avg_assessment_score'] = df['avg_assessment_score'].fillna(df['avg_assessment_score'].median())\n",
    "\n",
    "# 3. date_registration: median imputation (very few missing)\n",
    "df['date_registration'] = df['date_registration'].fillna(df['date_registration'].median())\n",
    "\n",
    "# 4. imd_band: mode imputation (categorical/ordinal)\n",
    "df['imd_band'] = df['imd_band'].fillna(df['imd_band'].mode()[0])\n",
    "\n",
    "# Verify no missing values remain\n",
    "print(\"Remaining missing values:\")\n",
    "print(df.isna().sum()[df.isna().sum() > 0])"
   ]
  },
  {
   "cell_type": "markdown",
   "id": "d47ee702",
   "metadata": {},
   "source": [
    "## Feature Encoding\n",
    "\n",
    "Now I'll encode categorical features as planned in section 3.1:\n",
    "- One-hot encode: `code_module`, `code_presentation`, `region`, `highest_education`\n",
    "- Label encode: `gender`, `disability`\n",
    "- Ordinal encode: `imd_band`, `age_band`\n",
    "- Keep numeric features as-is"
   ]
  },
  {
   "cell_type": "code",
   "execution_count": 12,
   "id": "66054846",
   "metadata": {
    "execution": {
     "iopub.execute_input": "2025-10-13T13:58:26.984371Z",
     "iopub.status.busy": "2025-10-13T13:58:26.984287Z",
     "iopub.status.idle": "2025-10-13T13:58:27.702169Z",
     "shell.execute_reply": "2025-10-13T13:58:27.701829Z"
    }
   },
   "outputs": [
    {
     "name": "stdout",
     "output_type": "stream",
     "text": [
      "\n",
      "After encoding:\n",
      "Total features: 34\n",
      "Feature columns: ['gender', 'imd_band', 'age_band', 'num_of_prev_attempts', 'studied_credits', 'disability', 'date_registration', 'sum_click', 'avg_assessment_score', 'code_module_BBB']...\n"
     ]
    }
   ],
   "source": [
    "from sklearn.preprocessing import LabelEncoder\n",
    "\n",
    "# Label encode binary categorical variables\n",
    "le_gender = LabelEncoder()\n",
    "df['gender'] = le_gender.fit_transform(df['gender'])\n",
    "\n",
    "le_disability = LabelEncoder()\n",
    "df['disability'] = le_disability.fit_transform(df['disability'])\n",
    "\n",
    "# Ordinal encode imd_band (socioeconomic deprivation index: 0-10%, 10-20%, etc.)\n",
    "# Map to ordinal scale 0-9\n",
    "imd_mapping = {\n",
    "    '0-10%': 0, '10-20': 1, '20-30%': 2, '30-40%': 3, '40-50%': 4,\n",
    "    '50-60%': 5, '60-70%': 6, '70-80%': 7, '80-90%': 8, '90-100%': 9\n",
    "}\n",
    "df['imd_band'] = df['imd_band'].map(imd_mapping)\n",
    "\n",
    "# Ordinal encode age_band (age groups)\n",
    "# Map to ordinal scale: 0-35 -> 0, 35-55 -> 1, 55+ -> 2\n",
    "age_mapping = {'0-35': 0, '35-55': 1, '55<=': 2}\n",
    "df['age_band'] = df['age_band'].map(age_mapping)\n",
    "\n",
    "# One-hot encode categorical variables with multiple categories\n",
    "df = pd.get_dummies(df, columns=['code_module', 'code_presentation', 'region', 'highest_education'], drop_first=True)\n",
    "\n",
    "print(f\"\\nAfter encoding:\")\n",
    "print(f\"Total features: {df.shape[1] - 1}\")  # -1 to exclude target\n",
    "print(f\"Feature columns: {df.drop(columns=[TARGET_COL]).columns.tolist()[:10]}...\")  # Show first 10"
   ]
  },
  {
   "cell_type": "markdown",
   "id": "027b098a",
   "metadata": {},
   "source": [
    "## Target Distribution"
   ]
  },
  {
   "cell_type": "code",
   "execution_count": 13,
   "id": "199d178b",
   "metadata": {
    "execution": {
     "iopub.execute_input": "2025-10-13T13:58:27.703825Z",
     "iopub.status.busy": "2025-10-13T13:58:27.703664Z",
     "iopub.status.idle": "2025-10-13T13:58:27.788306Z",
     "shell.execute_reply": "2025-10-13T13:58:27.788021Z"
    },
    "lines_to_next_cell": 2
   },
   "outputs": [
    {
     "data": {
      "image/png": "[encoded data removed]",
      "text/plain": [
       "<Figure size 400x400 with 1 Axes>"
      ]
     },
     "metadata": {},
     "output_type": "display_data"
    }
   ],
   "source": [
    "\n",
    "# Plot target distribution\n",
    "ratios = df[TARGET_COL].value_counts(normalize=True).to_frame(\"ratio\")\n",
    "plt.figure(figsize=(4,4))\n",
    "plt.bar(ratios.index, ratios[\"ratio\"], color='steelblue')\n",
    "plt.ylim(0, 0.5)\n",
    "plt.title(f\"Class Distribution for {TARGET_COL}\", fontsize=13, fontweight=\"bold\", color=\"#2E4053\")\n",
    "plt.xlabel(\"Class\")\n",
    "plt.ylabel(\"Proportion\")\n",
    "# plt.grid(axis='both')\n",
    "plt.tight_layout()\n",
    "plt.show()"
   ]
  },
  {
   "cell_type": "markdown",
   "id": "7393ae43",
   "metadata": {},
   "source": [
    "# 5. Explorative Data Analysis (EDA)\n",
    "\n",
    "## Correlation Heatmap"
   ]
  },
  {
   "cell_type": "code",
   "execution_count": 14,
   "id": "b9f39b95",
   "metadata": {
    "execution": {
     "iopub.execute_input": "2025-10-13T13:58:27.789890Z",
     "iopub.status.busy": "2025-10-13T13:58:27.789762Z",
     "iopub.status.idle": "2025-10-13T13:58:28.160714Z",
     "shell.execute_reply": "2025-10-13T13:58:28.160442Z"
    }
   },
   "outputs": [
    {
     "data": {
      "image/png": "[encoded data removed]",
      "text/plain": [
       "<Figure size 800x600 with 2 Axes>"
      ]
     },
     "metadata": {},
     "output_type": "display_data"
    }
   ],
   "source": [
    "from sklearn.ensemble import RandomForestClassifier\n",
    "\n",
    "\n",
    "# Correlation heatmap using standard matplotlib\n",
    "corr_matrix = df.select_dtypes(include=[np.number]).corr()\n",
    "fig, ax = plt.subplots(figsize=(8, 6))\n",
    "im = ax.imshow(corr_matrix, cmap='RdBu_r', vmin=-1, vmax=1, aspect='auto')\n",
    "ax.set_xticks(np.arange(len(corr_matrix.columns)))\n",
    "ax.set_yticks(np.arange(len(corr_matrix.columns)))\n",
    "ax.set_xticklabels(corr_matrix.columns, rotation=45, ha='right')\n",
    "ax.set_yticklabels(corr_matrix.columns)\n",
    "plt.colorbar(im, ax=ax, label='Correlation')\n",
    "plt.title(\"Correlation Matrix\", fontsize=12)\n",
    "plt.tight_layout()\n",
    "plt.show()"
   ]
  },
  {
   "cell_type": "markdown",
   "id": "a9637250",
   "metadata": {},
   "source": [
    "## Correlation Analysis\n",
    "\n",
    "The correlation matrix reveals several interesting patterns. Most notably, `sum_click` and `avg_assessment_score` show a moderate positive correlation (~0.4-0.5), suggesting that students who engage more with VLE materials tend to perform better on assessments. This makes intuitive sense - active learners who click through resources are likely studying more effectively.\n",
    "\n",
    "Other features show relatively weak correlations with each other. `num_of_prev_attempts` has minimal correlation with performance metrics, indicating that past attempts don't strongly predict current engagement or scores. Similarly, `studied_credits` and `date_registration` show weak relationships with behavioral features, confirming that static enrollment characteristics matter less than actual learning behavior."
   ]
  },
  {
   "cell_type": "markdown",
   "id": "cb20005a",
   "metadata": {},
   "source": [
    "## Feature Importance using Random Forest"
   ]
  },
  {
   "cell_type": "code",
   "execution_count": 15,
   "id": "a0a79fc3",
   "metadata": {
    "execution": {
     "iopub.execute_input": "2025-10-13T13:58:28.162150Z",
     "iopub.status.busy": "2025-10-13T13:58:28.162051Z",
     "iopub.status.idle": "2025-10-13T13:58:29.151114Z",
     "shell.execute_reply": "2025-10-13T13:58:29.150771Z"
    }
   },
   "outputs": [
    {
     "data": {
      "image/png": "[encoded data removed]",
      "text/plain": [
       "<Figure size 600x600 with 1 Axes>"
      ]
     },
     "metadata": {},
     "output_type": "display_data"
    }
   ],
   "source": [
    "# Feature importance using Random Forest\n",
    "X = df.drop(columns=[TARGET_COL]).select_dtypes(include=[np.number]).fillna(0)\n",
    "y = df[TARGET_COL]\n",
    "m = RandomForestClassifier(n_estimators=200, random_state=42, n_jobs=-1)\n",
    "m.fit(X, y)\n",
    "\n",
    "imp = pd.Series(m.feature_importances_, index=X.columns).sort_values(ascending=False).head(15)\n",
    "\n",
    "plt.figure(figsize=(6,6))\n",
    "plt.bar(range(len(imp)), imp.values, color='steelblue')\n",
    "plt.xticks(range(len(imp)), imp.index, rotation=45, ha='right')\n",
    "plt.title(\"Feature Importance\", fontweight=\"bold\", color=\"#2E4053\")\n",
    "plt.xlabel(\"Feature\")\n",
    "plt.ylabel(\"Importance\")\n",
    "plt.ylim(0, imp.max() * 1.1)\n",
    "plt.tight_layout()\n",
    "plt.show()"
   ]
  },
  {
   "cell_type": "markdown",
   "id": "522f2a2e",
   "metadata": {
    "lines_to_next_cell": 2
   },
   "source": [
    "### Feature Importance Insights\n",
    "\n",
    "The feature importance plot reveals that `avg_assessment_score` and `sum_click` are the most predictive features - students who engage with learning materials and perform well on assessments are more likely to pass or earn distinction. Registration timing (`date_registration`) and demographic factors like `studied_credits` also contribute, but to a lesser extent. This confirms that behavioral engagement is more predictive than static demographics."
   ]
  },
  {
   "cell_type": "markdown",
   "id": "68ea268b",
   "metadata": {},
   "source": [
    "# 6. Model Training and Evaluation\n",
    "\n",
    "I'll compare five different classifiers using 5-fold stratified cross-validation:\n",
    "- **Logistic Regression**: Simple, interpretable baseline\n",
    "- **K-Nearest Neighbors (KNN)**: Instance-based learning\n",
    "- **Support Vector Machine (SVM)**: Kernel-based classifier\n",
    "- **AdaBoost**: Ensemble boosting method\n",
    "- **Random Forest**: Ensemble bagging method\n",
    "\n",
    "Metrics: Accuracy, Weighted F1, Precision, Recall, and ROC-AUC (one-vs-rest)"
   ]
  },
  {
   "cell_type": "code",
   "execution_count": 16,
   "id": "aab66099",
   "metadata": {
    "execution": {
     "iopub.execute_input": "2025-10-13T13:58:29.152746Z",
     "iopub.status.busy": "2025-10-13T13:58:29.152626Z",
     "iopub.status.idle": "2025-10-13T13:58:48.827494Z",
     "shell.execute_reply": "2025-10-13T13:58:48.825010Z"
    }
   },
   "outputs": [
    {
     "name": "stdout",
     "output_type": "stream",
     "text": [
      "Target distribution: Counter({'Pass': 12361, 'Withdrawn': 10156, 'Fail': 7052, 'Distinction': 3024})\n",
      "Feature shape: (32593, 34)\n",
      "Features: ['gender', 'imd_band', 'age_band', 'num_of_prev_attempts', 'studied_credits', 'disability', 'date_registration', 'sum_click', 'avg_assessment_score', 'code_module_BBB', 'code_module_CCC', 'code_module_DDD', 'code_module_EEE', 'code_module_FFF', 'code_module_GGG', 'code_presentation_2013J', 'code_presentation_2014B', 'code_presentation_2014J', 'region_East Midlands Region', 'region_Ireland', 'region_London Region', 'region_North Region', 'region_North Western Region', 'region_Scotland', 'region_South East Region', 'region_South Region', 'region_South West Region', 'region_Wales', 'region_West Midlands Region', 'region_Yorkshire Region', 'highest_education_HE Qualification', 'highest_education_Lower Than A Level', 'highest_education_No Formal quals', 'highest_education_Post Graduate Qualification']\n",
      "\n",
      "Training Logistic Regression...\n"
     ]
    },
    {
     "name": "stdout",
     "output_type": "stream",
     "text": [
      "\n",
      "Training KNN...\n"
     ]
    },
    {
     "name": "stdout",
     "output_type": "stream",
     "text": [
      "\n",
      "Training AdaBoost...\n"
     ]
    },
    {
     "name": "stdout",
     "output_type": "stream",
     "text": [
      "\n",
      "Training Random Forest...\n"
     ]
    },
    {
     "name": "stdout",
     "output_type": "stream",
     "text": [
      "\n",
      "================================================================================\n",
      "MODEL COMPARISON RESULTS (5-Fold Cross-Validation)\n",
      "================================================================================\n",
      "              Model  Accuracy  F1 Weighted  Precision Weighted  Recall Weighted  Roc Auc\n",
      "      Random Forest    0.6742       0.6614              0.6652           0.6742   0.8836\n",
      "Logistic Regression    0.6028       0.6075              0.6452           0.6028   0.8568\n",
      "           AdaBoost    0.6187       0.5991              0.6024           0.6187   0.8264\n",
      "                KNN    0.4552       0.4514              0.4555           0.4552   0.6827\n",
      "================================================================================\n"
     ]
    }
   ],
   "source": [
    "from collections import Counter\n",
    "from sklearn.model_selection import cross_validate, StratifiedKFold, cross_val_predict\n",
    "from sklearn.metrics import make_scorer, f1_score, precision_score, recall_score, roc_auc_score\n",
    "from sklearn.preprocessing import label_binarize\n",
    "from sklearn.linear_model import LogisticRegression\n",
    "from sklearn.neighbors import KNeighborsClassifier\n",
    "from sklearn.svm import SVC\n",
    "from sklearn.ensemble import AdaBoostClassifier, RandomForestClassifier\n",
    "import warnings\n",
    "\n",
    "# Prepare features and target (all features are now encoded)\n",
    "X = df.drop(columns=[TARGET_COL])\n",
    "y = df[TARGET_COL]\n",
    "\n",
    "print(\"Target distribution:\", Counter(y))\n",
    "print(f\"Feature shape: {X.shape}\")\n",
    "print(f\"Features: {X.columns.tolist()}\")\n",
    "\n",
    "# Feature scaling for models that need it\n",
    "from sklearn.preprocessing import StandardScaler\n",
    "from sklearn.pipeline import Pipeline\n",
    "\n",
    "# Define models (with scaling pipeline for models that need it)\n",
    "models = {\n",
    "    \"Logistic Regression\": Pipeline([\n",
    "        ('scaler', StandardScaler()),\n",
    "        ('clf', LogisticRegression(max_iter=5000, class_weight=\"balanced\", random_state=42))\n",
    "    ]),\n",
    "    \"KNN\": Pipeline([\n",
    "        ('scaler', StandardScaler()),\n",
    "        ('clf', KNeighborsClassifier(n_neighbors=5))\n",
    "    ]),\n",
    "    \"SVM\": Pipeline([\n",
    "        ('scaler', StandardScaler()),\n",
    "        ('clf', SVC(kernel='rbf', class_weight=\"balanced\", probability=True, random_state=42))\n",
    "    ]),\n",
    "    \"AdaBoost\": AdaBoostClassifier(n_estimators=100, random_state=42),\n",
    "    \"Random Forest\": RandomForestClassifier(n_estimators=200, class_weight=\"balanced_subsample\", random_state=42, n_jobs=-1)\n",
    "}\n",
    "\n",
    "# svm is not the best but it's time consuming so remove it in prototype\n",
    "if not WITH_SVM:\n",
    "    models.pop(\"SVM\")\n",
    "\n",
    "\n",
    "# Cross-validation setup\n",
    "classes = np.unique(y)\n",
    "cv = StratifiedKFold(n_splits=5, shuffle=True, random_state=42)\n",
    "\n",
    "scorers = {\n",
    "    \"accuracy\": \"accuracy\",\n",
    "    \"f1_weighted\": make_scorer(f1_score, average=\"weighted\"),\n",
    "    \"precision_weighted\": make_scorer(precision_score, average=\"weighted\", zero_division=0),\n",
    "    \"recall_weighted\": make_scorer(recall_score, average=\"weighted\", zero_division=0)\n",
    "}\n",
    "\n",
    "# Train and evaluate each model\n",
    "results = []\n",
    "for name, model in models.items():\n",
    "    print(f\"\\nTraining {name}...\")\n",
    "    scores = cross_validate(model, X, y, cv=cv, scoring=scorers, n_jobs=-1, error_score='raise')\n",
    "\n",
    "    row = {\"Model\": name}\n",
    "    for metric, values in scores.items():\n",
    "        if metric.startswith(\"test_\"):\n",
    "            metric_name = metric.replace(\"test_\", \"\")\n",
    "            row[metric_name] = np.mean(values)\n",
    "\n",
    "    # Calculate ROC-AUC for models with predict_proba\n",
    "    if hasattr(model, \"predict_proba\"):\n",
    "        try:\n",
    "            with warnings.catch_warnings():\n",
    "                warnings.simplefilter(\"ignore\")\n",
    "                y_proba = cross_val_predict(model, X, y, cv=cv, method=\"predict_proba\", n_jobs=-1)\n",
    "            y_bin = label_binarize(y, classes=classes)\n",
    "            row[\"roc_auc\"] = roc_auc_score(y_bin, y_proba, multi_class=\"ovr\")\n",
    "        except Exception as e:\n",
    "            row[\"roc_auc\"] = np.nan\n",
    "    else:\n",
    "        row[\"roc_auc\"] = np.nan\n",
    "\n",
    "    results.append(row)\n",
    "\n",
    "# Display results\n",
    "results_df = pd.DataFrame(results)\n",
    "results_df = results_df.sort_values(by=\"f1_weighted\", ascending=False).reset_index(drop=True)\n",
    "\n",
    "# Format column names for display\n",
    "results_df_display = results_df.copy()\n",
    "results_df_display.columns = [col.replace('_', ' ').title() for col in results_df_display.columns]\n",
    "\n",
    "print(\"\\n\" + \"=\"*80)\n",
    "print(\"MODEL COMPARISON RESULTS (5-Fold Cross-Validation)\")\n",
    "print(\"=\"*80)\n",
    "print(results_df_display.to_string(index=False, float_format=lambda x: f'{x:.4f}'))\n",
    "print(\"=\"*80)"
   ]
  },
  {
   "cell_type": "markdown",
   "id": "a0af356b",
   "metadata": {
    "lines_to_next_cell": 2
   },
   "source": [
    "### Model Performance Analysis\n",
    "\n",
    "With all features properly encoded (including categorical variables), the results show improved performance across all models:\n",
    "\n",
    "**Best performer**: Random Forest achieves the strongest results with F1=0.6614 and accuracy=67.42%, representing a significant improvement over numeric-only features. The excellent ROC-AUC (0.8836) demonstrates the model's strong ability to distinguish between classes probabilistically. This suggests that including demographic and course-level features (code_module, code_presentation, region, education level) provides valuable predictive signal beyond just engagement metrics.\n",
    "\n",
    "**Strong baseline**: Logistic Regression performs surprisingly well (F1=0.6075, accuracy=60.28%) with the highest precision (0.6452), indicating it makes conservative but accurate predictions. The strong ROC-AUC (0.8568) shows that linear combinations of the encoded features capture meaningful patterns.\n",
    "\n",
    "**Middle tier**: AdaBoost (F1=0.5991, accuracy=61.87%) performs reasonably but doesn't match Random Forest, possibly because decision stumps struggle with the high-dimensional feature space created by one-hot encoding.\n",
    "\n",
    "**Underperformer**: KNN (F1=0.4514, accuracy=45.52%) struggles significantly, likely due to the curse of dimensionality - the one-hot encoded features create a sparse, high-dimensional space where distance metrics become less meaningful.\n",
    "\n",
    "**Key insight**: Random Forest's superior performance demonstrates the value of including all available features. The model benefits from the rich feature set (demographic, behavioral, and course-level information) to capture complex interactions that predict student outcomes. The gap between ROC-AUC (~0.88) and accuracy/F1 (~0.66) indicates that while class boundaries overlap, the model successfully captures probabilistic differences between outcome groups."
   ]
  },
  {
   "cell_type": "markdown",
   "id": "a929d713",
   "metadata": {},
   "source": [
    "# 7. Final Model Evaluation\n",
    "\n",
    "Now let's evaluate the Random Forest model using cross-validation to get confusion matrix and detailed classification metrics."
   ]
  },
  {
   "cell_type": "code",
   "execution_count": 17,
   "id": "681254f8",
   "metadata": {
    "execution": {
     "iopub.execute_input": "2025-10-13T13:58:48.840660Z",
     "iopub.status.busy": "2025-10-13T13:58:48.840346Z",
     "iopub.status.idle": "2025-10-13T13:58:58.445088Z",
     "shell.execute_reply": "2025-10-13T13:58:58.444756Z"
    },
    "lines_to_next_cell": 2
   },
   "outputs": [
    {
     "name": "stdout",
     "output_type": "stream",
     "text": [
      "Generating cross-validated predictions for confusion matrix...\n"
     ]
    },
    {
     "data": {
      "image/png": "[encoded data removed]",
      "text/plain": [
       "<Figure size 500x400 with 2 Axes>"
      ]
     },
     "metadata": {},
     "output_type": "display_data"
    },
    {
     "name": "stdout",
     "output_type": "stream",
     "text": [
      "Calculating cross-validated ROC-AUC...\n"
     ]
    },
    {
     "name": "stdout",
     "output_type": "stream",
     "text": [
      "\n",
      "Cross-validated ROC-AUC (OVR): 0.8836\n"
     ]
    }
   ],
   "source": [
    "import numpy as np\n",
    "import matplotlib.pyplot as plt\n",
    "from matplotlib.colors import ListedColormap\n",
    "from sklearn.model_selection import StratifiedKFold, cross_val_predict\n",
    "from sklearn.metrics import ConfusionMatrixDisplay, roc_auc_score\n",
    "from sklearn.preprocessing import label_binarize\n",
    "\n",
    "# Use the Random Forest model from section 6\n",
    "clf = models[\"Random Forest\"]\n",
    "\n",
    "cv = StratifiedKFold(n_splits=5, shuffle=True, random_state=42)\n",
    "\n",
    "custom_cmap = ListedColormap([\n",
    "    \"#5B73B4\",\n",
    "    \"#8CA8C5\",\n",
    "    \"#A8CCC8\",\n",
    "    \"#FAF9DA\"\n",
    "])\n",
    "\n",
    "print(\"Generating cross-validated predictions for confusion matrix...\")\n",
    "y_pred = cross_val_predict(clf, X, y, cv=cv)\n",
    "fig, ax = plt.subplots(figsize=(5, 4))\n",
    "ConfusionMatrixDisplay.from_predictions(\n",
    "    y, y_pred, normalize=\"true\", cmap=custom_cmap, ax=ax\n",
    ")\n",
    "plt.title(\"Normalized Confusion Matrix (5-Fold CV)\", fontsize=12, pad=10)\n",
    "plt.xlabel(\"Predicted label\")\n",
    "plt.ylabel(\"True label\")\n",
    "plt.tight_layout()\n",
    "plt.show()\n",
    "\n",
    "if hasattr(clf, \"predict_proba\"):\n",
    "    print(\"Calculating cross-validated ROC-AUC...\")\n",
    "    y_proba = cross_val_predict(clf, X, y, cv=cv, method=\"predict_proba\")\n",
    "    y_bin = label_binarize(y, classes=np.unique(y))\n",
    "    auc = roc_auc_score(y_bin, y_proba, multi_class=\"ovr\")\n",
    "    print(f\"\\nCross-validated ROC-AUC (OVR): {auc:.4f}\")\n",
    "else:\n",
    "    print(\"Model has no predict_proba; ROC-AUC skipped.\")"
   ]
  },
  {
   "cell_type": "code",
   "execution_count": 18,
   "id": "eeb640ad",
   "metadata": {
    "execution": {
     "iopub.execute_input": "2025-10-13T13:58:58.446689Z",
     "iopub.status.busy": "2025-10-13T13:58:58.446579Z",
     "iopub.status.idle": "2025-10-13T13:59:03.335244Z",
     "shell.execute_reply": "2025-10-13T13:59:03.334906Z"
    }
   },
   "outputs": [
    {
     "name": "stdout",
     "output_type": "stream",
     "text": [
      "Generating classification report...\n"
     ]
    },
    {
     "name": "stdout",
     "output_type": "stream",
     "text": [
      "\n",
      "Per-Class Performance Metrics:\n",
      "      label  precision   recall  f1-score  support\n",
      "Distinction   0.666667 0.509921  0.577853   3024.0\n",
      "       Fail   0.546092 0.375496  0.445005   7052.0\n",
      "       Pass   0.682011 0.859396  0.760497  12361.0\n",
      "  Withdrawn   0.726738 0.705199  0.715806  10156.0\n"
     ]
    }
   ],
   "source": [
    "from sklearn.model_selection import StratifiedKFold, cross_val_predict\n",
    "from sklearn.metrics import classification_report\n",
    "import pandas as pd\n",
    "\n",
    "cv = StratifiedKFold(n_splits=5, shuffle=True, random_state=42)\n",
    "print(\"Generating classification report...\")\n",
    "y_pred = cross_val_predict(clf, X, y, cv=cv)\n",
    "report = classification_report(y, y_pred, output_dict=True, zero_division=0)\n",
    "\n",
    "per_class_df = pd.DataFrame(report).T.reset_index().rename(columns={'index': 'label'})\n",
    "per_class_df = per_class_df[per_class_df['label'].isin(y.unique())]\n",
    "print(\"\\nPer-Class Performance Metrics:\")\n",
    "print(per_class_df[['label','precision','recall','f1-score','support']].to_string(index=False))"
   ]
  },
  {
   "cell_type": "markdown",
   "id": "fe9d2062",
   "metadata": {},
   "source": [
    "## Confusion Matrix Analysis\n",
    "\n",
    "The normalized confusion matrix reveals important patterns in how the Random Forest model predicts student outcomes:\n",
    "\n",
    "**Strong predictions:**\n",
    "- **Pass** (86% recall): The model excels at identifying students who will pass, correctly classifying 86% of passing students. This is the most common outcome and the model handles it well.\n",
    "- **Withdrawn** (71% recall): The model effectively identifies students likely to withdraw, capturing 71% of withdrawal cases. This is valuable for early intervention.\n",
    "\n",
    "**Challenging predictions:**\n",
    "- **Fail** (38% recall): The model struggles most with predicting failures. Only 38% of students who actually fail are correctly identified. The main confusion occurs with:\n",
    "  - 30% misclassified as Pass (false negatives) - concerning as these students need support but appear to be doing fine\n",
    "  - 32% misclassified as Withdrawn (false positives) - the model may conflate disengagement with failure risk\n",
    "\n",
    "- **Distinction** (51% recall): Half of distinction students are correctly identified, but 47% are misclassified as Pass. This suggests the boundary between high-performing and distinction-level students is fuzzy - both groups likely show similar engagement and assessment patterns.\n",
    "\n",
    "**Key insights:**\n",
    "- The main source of error is the **Fail vs. Pass confusion** (30% of failures predicted as passes), which has important implications for intervention timing. Missing at-risk students could delay support.\n",
    "- **Fail vs. Withdrawn confusion** (32% of failures predicted as withdrawn) suggests these outcomes share similar patterns of disengagement or poor performance.\n",
    "- The model performs well for binary distinctions (pass/not pass) but struggles with the nuanced 4-class problem, particularly differentiating between struggling students (Fail vs. Withdrawn) and high achievers (Pass vs. Distinction).\n",
    "- For practical deployment, consider collapsing categories (e.g., Pass+Distinction vs. Fail+Withdrawn) or using probability thresholds for early warning systems."
   ]
  },
  {
   "cell_type": "markdown",
   "id": "2c2962f2",
   "metadata": {},
   "source": [
    "# 8. Discussion & Conclusion\n",
    "\n",
    "This project explored whether student demographics, engagement behavior, and assessment performance could predict final outcomes in the Open University Learning Analytics dataset. Using a comprehensive feature set including one-hot encoded categorical variables (course, presentation, region, education level) alongside behavioral metrics (VLE clicks, assessment scores), I compared five classification models using 5-fold stratified cross-validation.\n",
    "\n",
    "## Model Performance\n",
    "\n",
    "**Random Forest emerged as the best performer** with:\n",
    "- **Weighted F1: 0.6614**\n",
    "- **Accuracy: 67.42%**\n",
    "- **ROC-AUC: 0.8836**\n",
    "\n",
    "The confusion matrix reveals nuanced performance across outcome classes:\n",
    "- **Pass** (86% recall): Excellent identification of students who will pass\n",
    "- **Withdrawn** (71% recall): Effective early warning for withdrawal risk\n",
    "- **Fail** (38% recall): The model's weakest area, with 30% of failures misclassified as Pass (missed at-risk students) and 32% confused with Withdrawn\n",
    "- **Distinction** (51% recall): Moderate performance, with 47% confused with Pass due to overlapping engagement patterns\n",
    "\n",
    "## Feature Insights\n",
    "\n",
    "The feature importance analysis (section 5) showed that **behavioral features dominate prediction**: `avg_assessment_score` and `sum_click` (VLE engagement) were the top predictors. However, including demographic and course-level features significantly improved performance compared to numeric-only baselines—demonstrating that context matters. Different courses and student backgrounds create distinct pathways to success or failure.\n",
    "\n",
    "## Limitations\n",
    "\n",
    "Several constraints affect model performance:\n",
    "1. **Class imbalance**: The dataset is heavily skewed toward Pass outcomes, making rare classes (Fail, Distinction) harder to predict\n",
    "2. **Temporal aggregation**: Features were aggregated over entire courses rather than modeled as time series, losing early warning signals that emerge gradually\n",
    "3. **Feature overlap**: Fail and Withdrawn share similar disengagement patterns; Pass and Distinction show similar high performance—creating fuzzy boundaries\n",
    "4. **Missing at-risk students**: 30% of failures are misclassified as Pass, representing students who need support but appear to be doing fine based on aggregate metrics\n",
    "\n",
    "## Practical Applications\n",
    "\n",
    "Despite limitations, the Random Forest model provides a **practical foundation for early intervention systems**:\n",
    "- Use probability scores (not just hard predictions) to identify at-risk students with confidence thresholds\n",
    "- Focus intervention resources on students predicted as Fail or Withdrawn (71-86% recall means most are correctly flagged)\n",
    "- Be aware that ~30% of struggling students may be missed—complementary monitoring is essential\n",
    "- Consider binary classification (pass/not-pass) for simpler, more accurate predictions if distinction-level granularity isn't required\n",
    "\n",
    "\n",
    "## Final Thoughts\n",
    "\n",
    "This analysis demonstrates that **learning analytics can meaningfully predict student outcomes** (67% accuracy, 0.88 AUC), providing a data-driven foundation for personalized support in online education. The model successfully identifies most students who will pass or withdraw, though predicting failures remains challenging. Most importantly, such systems should augment—not replace—instructor judgment, ensuring interventions are both timely and human-centered."
   ]
  },
  {
   "cell_type": "markdown",
   "id": "dbb8e15a",
   "metadata": {
    "lines_to_next_cell": 2
   },
   "source": [
    "## Reproducibility\n",
    "\n",
    "- **Environment:** Python 3.11, scikit-learn ≥ 1.3, pandas, matplotlib, numpy\n",
    "- **Random seed:** 42 for all models and cross-validation folds\n",
    "- **Hardware:** Standard CPU (no GPU required); runtime < 5 minutes\n",
    "- **Re-run:** Execute all cells sequentially in Jupyter or convert to .py script\n",
    "- **Data:** Open University Learning Analytics Dataset (OULAD) from Kaggle\n"
   ]
  },
  {
   "cell_type": "markdown",
   "id": "0e176c72",
   "metadata": {},
   "source": []
  }
 ],
 "metadata": {
  "jupytext": {
   "cell_metadata_filter": "-all"
  },
  "kernelspec": {
   "display_name": "Python (sup-final)",
   "language": "python",
   "name": "sup-final"
  },
  "language_info": {
   "codemirror_mode": {
    "name": "ipython",
    "version": 3
   },
   "file_extension": ".py",
   "mimetype": "text/x-python",
   "name": "python",
   "nbconvert_exporter": "python",
   "pygments_lexer": "ipython3",
   "version": "3.12.11"
  }
 },
 "nbformat": 4,
 "nbformat_minor": 5
}
